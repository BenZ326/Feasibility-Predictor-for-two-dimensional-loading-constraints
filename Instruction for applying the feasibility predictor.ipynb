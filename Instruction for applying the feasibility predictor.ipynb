{
 "cells": [
  {
   "cell_type": "markdown",
   "metadata": {},
   "source": [
    "# This is a simple instruction on how to apply the feasibility predictor. The main steps include:<br>\n",
    "* Load the feasibility predictor\n",
    "* Parse a packing instance\n",
    "* Pass the feature of the instance to the predictor and obtain the prediction"
   ]
  },
  {
   "cell_type": "code",
   "execution_count": 119,
   "metadata": {},
   "outputs": [],
   "source": [
    "import torch as T\n",
    "import pickle as pkl\n",
    "import numpy as np"
   ]
  },
  {
   "cell_type": "markdown",
   "metadata": {},
   "source": [
    "## Step 1. Load the feasibility predictor"
   ]
  },
  {
   "cell_type": "code",
   "execution_count": 120,
   "metadata": {},
   "outputs": [],
   "source": [
    "predictor = T.jit.load('Feasibility_Predictor.pt')\n",
    "device = T.device(\"cuda\" if T.cuda.is_available() else \"cpu\")\n",
    "predictor  = predictor.to(device)"
   ]
  },
  {
   "cell_type": "markdown",
   "metadata": {},
   "source": [
    "## Step2. Parse a packing instance"
   ]
  },
  {
   "cell_type": "code",
   "execution_count": 121,
   "metadata": {},
   "outputs": [],
   "source": [
    "def extract_manual_feature(items, bin_width, bin_height):\n",
    "    \"\"\"\n",
    "    The method is to extract features from a set of items\n",
    "    Parameters:\n",
    "    ----------\n",
    "    items (a list of np.arrays)\n",
    "    bin_width (int): the width of a bin\n",
    "    bin_height (int): the height of a bin\n",
    "    Returns (a list of metrics)\n",
    "    -------\n",
    "    notes:\n",
    "    we extract five types of features:\n",
    "    1) the ratio between width and height, and four statistical metrics (mean, min, max, std) as the features\n",
    "    2) the ratio between width and the bin width, four statistical metrics (mean, min, max, std) as the features\n",
    "    3) the ratio between height and the bin height, four statistical metrics (mean, min, max, std) as the features\n",
    "    4) the ratio between area of a item and the bin capacity, four statistical metrics (mean, min, max, std) as the features\n",
    "    5) the ratio between total area of the items and the bin capacity, a single metric\n",
    "    \"\"\"\n",
    "    MAX_W_H_RATIO = 18\n",
    "    capacity = bin_width * bin_height\n",
    "    w_h_ratios = np.asarray(list(map(lambda x: x[0] / x[1], items))) / MAX_W_H_RATIO\n",
    "    w_bin_ratios = np.asarray(list(map(lambda x: x[0] / bin_width, items)))\n",
    "    h_bin_ratios = np.asarray(list(map(lambda x: x[1] / bin_height, items)))\n",
    "    area_capacity_ratios = np.asarray(list(map(lambda x: (x[0] * x[1]) / capacity, items)))\n",
    "    total_area = np.asarray(list(map(lambda x: x[0] * x[1], items))).sum()\n",
    "    w_h_features = [w_h_ratios.mean(), w_h_ratios.min(), w_h_ratios.max(), w_h_ratios.std()]\n",
    "    w_bin_features = [w_bin_ratios.mean(), w_bin_ratios.min(), w_bin_ratios.max(), w_bin_ratios.std()]\n",
    "    h_bin_features = [h_bin_ratios.mean(), h_bin_ratios.min(), h_bin_ratios.max(), h_bin_ratios.std()]\n",
    "    area_capacity_features = [area_capacity_ratios.mean(), area_capacity_ratios.min(),\n",
    "                              area_capacity_ratios.max(), area_capacity_ratios.std()]\n",
    "    total_area_capacity_features = [total_area / capacity]\n",
    "    extracted_features = [w_h_features, w_bin_features, h_bin_features, area_capacity_features,\n",
    "                          total_area_capacity_features]\n",
    "    result = []\n",
    "    for x in extracted_features:\n",
    "        result.extend(x)\n",
    "    return result"
   ]
  },
  {
   "cell_type": "code",
   "execution_count": 122,
   "metadata": {},
   "outputs": [],
   "source": [
    "# Demo instance A, result: infeasible \n",
    "# width, height\n",
    "# 6,4\n",
    "# 17,1\n",
    "# 8,1\n",
    "# 15,2\n",
    "# 2,6\n",
    "# 13,1\n",
    "# 4,7\n",
    "# 7,4\n",
    "# 6,4\n",
    "# 2,5\n",
    "\n",
    "# Demo instance B, result: feasible:\n",
    "# 2,9\n",
    "# 3,4\n",
    "# 2,6\n",
    "# 13,1\n",
    "# 4,7\n",
    "# 7,4\n",
    "# 6,4\n",
    "# 2,5\n",
    "instance = [\n",
    "           # width, height\n",
    "            [2,9], \n",
    "            [3,4],\n",
    "            [2,6],\n",
    "            [13,1],\n",
    "            [4,7],\n",
    "            [7,4],\n",
    "            [6,4],\n",
    "            [2,5]\n",
    "            ]\n",
    "features = extract_manual_feature(instance, bin_width = 20, bin_height = 10)"
   ]
  },
  {
   "cell_type": "markdown",
   "metadata": {},
   "source": [
    "## Step3. Pass the feature of the instance to the predictor and obtain the prediction"
   ]
  },
  {
   "cell_type": "code",
   "execution_count": 123,
   "metadata": {},
   "outputs": [
    {
     "data": {
      "text/plain": [
       "RecursiveScriptModule(\n",
       "  original_name=FFNNFeasibilityChecker\n",
       "  (linear1): RecursiveScriptModule(original_name=Linear)\n",
       "  (linear2): RecursiveScriptModule(original_name=Linear)\n",
       "  (linear3): RecursiveScriptModule(original_name=Linear)\n",
       ")"
      ]
     },
     "execution_count": 123,
     "metadata": {},
     "output_type": "execute_result"
    }
   ],
   "source": [
    "predictor.eval()"
   ]
  },
  {
   "cell_type": "code",
   "execution_count": 124,
   "metadata": {},
   "outputs": [
    {
     "data": {
      "text/plain": [
       "tensor([0.1287, 0.0123, 0.7222, 0.2262, 0.2438, 0.1000, 0.6500, 0.1775, 0.5000,\n",
       "        0.1000, 0.9000, 0.2236, 0.0906, 0.0500, 0.1400, 0.0352, 0.7250],\n",
       "       device='cuda:0')"
      ]
     },
     "execution_count": 124,
     "metadata": {},
     "output_type": "execute_result"
    }
   ],
   "source": [
    "features = T.tensor(features, dtype=T.float).to(device)\n",
    "features"
   ]
  },
  {
   "cell_type": "code",
   "execution_count": 125,
   "metadata": {},
   "outputs": [
    {
     "name": "stdout",
     "output_type": "stream",
     "text": [
      "feasible\n"
     ]
    }
   ],
   "source": [
    "with T.no_grad():\n",
    "    y = predictor(features)\n",
    "y\n",
    "if y > 0.5:\n",
    "    print(\"infeasible\")\n",
    "else:\n",
    "    print(\"feasible\")"
   ]
  }
 ],
 "metadata": {
  "kernelspec": {
   "display_name": "python (ml)",
   "language": "python",
   "name": "ml"
  },
  "language_info": {
   "codemirror_mode": {
    "name": "ipython",
    "version": 3
   },
   "file_extension": ".py",
   "mimetype": "text/x-python",
   "name": "python",
   "nbconvert_exporter": "python",
   "pygments_lexer": "ipython3",
   "version": "3.6.8"
  }
 },
 "nbformat": 4,
 "nbformat_minor": 2
}
